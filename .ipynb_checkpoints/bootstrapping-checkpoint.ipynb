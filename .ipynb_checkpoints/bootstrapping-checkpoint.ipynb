{
 "cells": [
  {
   "cell_type": "markdown",
   "metadata": {},
   "source": [
    "# Bootstrappng\n",
    "\n",
    "Using bootstrapping to compute the confidence interval for the difference between means of two samples. "
   ]
  },
  {
   "cell_type": "code",
   "execution_count": 2,
   "metadata": {},
   "outputs": [],
   "source": [
    "import numpy as np"
   ]
  },
  {
   "cell_type": "code",
   "execution_count": 3,
   "metadata": {},
   "outputs": [],
   "source": [
    "def bootstrap_ci(df, variable, classes, repetitions = 1000, alpha = 0.05, random_state=None):\n",
    "    # df: a data frame that includes observations of the two sample\n",
    "    # variable: the column name of the column that includes observations\n",
    "    # classes: the column name of the column that includes group assignment (This column should contain two different group names)\n",
    "    # repetitions: number of times you want the bootstrapping to repeat. Default is 1000.\n",
    "    # alpha: likelihood that the true population parameter lies outside the confidence interval. Default is 0.05. \n",
    "    # random_stata: enable users to set their own random_state, default is None. \n",
    "    \n",
    "    df = df[[variable, classes]]\n",
    "    bootstrap_sample_size = len(df) \n",
    "    \n",
    "    mean_diffs = []\n",
    "\n",
    "    for i in range(repetitions):\n",
    "        bootstrap_sample = df.sample(n = bootstrap_sample_size, replace = True, random_state = random_state)\n",
    "        mean_diff = bootstrap_sample.groupby(classes).mean().iloc[1,0] - bootstrap_sample.groupby(classes).mean().iloc[0,0]\n",
    "        mean_diffs.append(mean_diff)\n",
    "\n",
    "    # confidence interval\n",
    "    left = np.percentile(mean_diffs, alpha/2*100)\n",
    "    right = np.percentile(mean_diffs, 100-alpha/2*100)\n",
    "\n",
    "    # point estimate\n",
    "    point_est = df.groupby(classes).mean().iloc[1,0] - df.groupby(classes).mean().iloc[0,0]\n",
    "\n",
    "    print('Point estimate of difference between means:', round(point_est,2))\n",
    "    print((1-alpha)*100,'%','confidence interval for the difference between means:', (round(left,2), round(right,2)))  "
   ]
  },
  {
   "cell_type": "code",
   "execution_count": null,
   "metadata": {},
   "outputs": [],
   "source": []
  }
 ],
 "metadata": {
  "kernelspec": {
   "display_name": "Python 3",
   "language": "python",
   "name": "python3"
  },
  "language_info": {
   "codemirror_mode": {
    "name": "ipython",
    "version": 3
   },
   "file_extension": ".py",
   "mimetype": "text/x-python",
   "name": "python",
   "nbconvert_exporter": "python",
   "pygments_lexer": "ipython3",
   "version": "3.7.3"
  }
 },
 "nbformat": 4,
 "nbformat_minor": 2
}
